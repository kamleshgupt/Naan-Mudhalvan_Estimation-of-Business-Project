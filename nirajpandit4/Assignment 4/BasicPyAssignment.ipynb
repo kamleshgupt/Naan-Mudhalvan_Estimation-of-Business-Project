{
  "nbformat": 4,
  "nbformat_minor": 0,
  "metadata": {
    "colab": {
      "provenance": []
    },
    "kernelspec": {
      "name": "python3",
      "display_name": "Python 3"
    },
    "language_info": {
      "name": "python"
    }
  },
  "cells": [
    {
      "cell_type": "markdown",
      "source": [
        "##1. Create two lists and join these two lists?"
      ],
      "metadata": {
        "id": "-zD5S8_r7MoC"
      }
    },
    {
      "cell_type": "code",
      "source": [
        "list1 = [1,3,5,7]\n",
        "list2 = [9,11,13,15]\n",
        "\n",
        "joined_list = (list1 + list2)\n",
        "print(joined_list)"
      ],
      "metadata": {
        "colab": {
          "base_uri": "https://localhost:8080/"
        },
        "id": "drpWAByq7OAE",
        "outputId": "bf693beb-695e-47cc-bb3c-5d442cdf81fb"
      },
      "execution_count": 22,
      "outputs": [
        {
          "output_type": "stream",
          "name": "stdout",
          "text": [
            "[1, 3, 5, 7, 9, 11, 13, 15]\n"
          ]
        }
      ]
    },
    {
      "cell_type": "markdown",
      "source": [
        "##2. With if statement find the even numbers?"
      ],
      "metadata": {
        "id": "xhpMm9Cw8tTI"
      }
    },
    {
      "cell_type": "code",
      "source": [
        "nums = [1,2,3,4,5,6,7,8,9]\n",
        "num_result = []\n",
        "for num in nums:\n",
        "  if num % 2 == 0:\n",
        "    num_result.append(num)\n",
        "\n",
        "print(\"The List with Even Num. is:\", num_result)"
      ],
      "metadata": {
        "colab": {
          "base_uri": "https://localhost:8080/"
        },
        "id": "1Pj8kXGv8E_l",
        "outputId": "636c13e1-361b-4c2a-8070-b008e599f6c7"
      },
      "execution_count": 23,
      "outputs": [
        {
          "output_type": "stream",
          "name": "stdout",
          "text": [
            "The List with Even Num. is: [2, 4, 6, 8]\n"
          ]
        }
      ]
    },
    {
      "cell_type": "markdown",
      "source": [
        "##3. Create a dictionary with 3 keys and 2 values for each key?"
      ],
      "metadata": {
        "id": "zK9IU0bT_NpB"
      }
    },
    {
      "cell_type": "code",
      "source": [
        "#Three keys with 2 values.\n",
        "list = {\n",
        "    \"key1\" : [\"Apple\" , \"Mango\"],\n",
        "    \"key2\" : [\"Cat\" , \"Dog\"],\n",
        "    \"key3\" : [\"Bugatti\",\"Maruti\"]\n",
        "}\n",
        "print(list)\n",
        "\n",
        "#To get any perticular key values.\n",
        "#key01 = list[\"key1\"]\n",
        "#print(key01)"
      ],
      "metadata": {
        "colab": {
          "base_uri": "https://localhost:8080/"
        },
        "id": "87LLDoqA_RTS",
        "outputId": "9f652eee-3919-44a3-b08b-e18a9f51e2f0"
      },
      "execution_count": 27,
      "outputs": [
        {
          "output_type": "stream",
          "name": "stdout",
          "text": [
            "{'key1': ['Apple', 'Mango'], 'key2': ['Cat', 'Dog'], 'key3': ['Bugatti', 'Maruti']}\n"
          ]
        }
      ]
    },
    {
      "cell_type": "markdown",
      "source": [
        "##4. Create a function with If statement whis is used to find the odd numbers?"
      ],
      "metadata": {
        "id": "35jiveOZA1-k"
      }
    },
    {
      "cell_type": "code",
      "source": [
        "nums = [1,2,3,4,5,6,7,8,9]\n",
        "num_result = []\n",
        "for num in nums:\n",
        "  if num % 2 != 0:\n",
        "    num_result.append(num)\n",
        "print(\"The List with Odd Num. is:\", num_result)"
      ],
      "metadata": {
        "colab": {
          "base_uri": "https://localhost:8080/"
        },
        "id": "hhqtHHBZB4Wj",
        "outputId": "03b5f992-616f-4d9d-a00e-c6541bfe516a"
      },
      "execution_count": 28,
      "outputs": [
        {
          "output_type": "stream",
          "name": "stdout",
          "text": [
            "The List with Odd Num. is: [1, 3, 5, 7, 9]\n"
          ]
        }
      ]
    },
    {
      "cell_type": "markdown",
      "source": [
        "##5. Write a Python function to sum all the numbers in a list?"
      ],
      "metadata": {
        "id": "bQFmZ_5_DZFd"
      }
    },
    {
      "cell_type": "code",
      "source": [
        "list = [8,2,3,0,7]\n",
        "total = 0\n",
        "for num in list:\n",
        "  total += num\n",
        "\n",
        "print(total)"
      ],
      "metadata": {
        "colab": {
          "base_uri": "https://localhost:8080/"
        },
        "id": "8CX62l_JDgSd",
        "outputId": "b9fdea6a-5fc9-4aae-e473-bdd94f927c0f"
      },
      "execution_count": 29,
      "outputs": [
        {
          "output_type": "stream",
          "name": "stdout",
          "text": [
            "20\n"
          ]
        }
      ]
    }
  ]
}